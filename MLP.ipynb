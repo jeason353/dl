{
 "cells": [
  {
   "cell_type": "markdown",
   "metadata": {},
   "source": [
    "- 系统环境：windows\n",
    "- python版本：3.6.4\n",
    "- pytorch版本：1.0.1"
   ]
  },
  {
   "cell_type": "code",
   "execution_count": 1,
   "metadata": {},
   "outputs": [],
   "source": [
    "# 加载模块\n",
    "import torch.nn as nn\n",
    "import torch\n",
    "import numpy as np\n",
    "import torch.optim as optim\n",
    "import torchvision\n",
    "import torch.autograd as autograd\n",
    "import matplotlib.pyplot as plt\n"
   ]
  },
  {
   "cell_type": "code",
   "execution_count": 2,
   "metadata": {},
   "outputs": [],
   "source": [
    "# 加载mnist数据集\n",
    "train_set = torchvision.datasets.MNIST(\"mnist/train\",train=True,transform=torchvision.transforms.ToTensor(),download=True)\n",
    "test_set = torchvision.datasets.MNIST(\"mnist/test\",train=False,transform=torchvision.transforms.ToTensor(),download=True)\n",
    "\n",
    "# 把数据集分为 128 的mini-batch\n",
    "train_dataset = torch.utils.data.DataLoader(train_set,batch_size=128, shuffle=True)\n",
    "test_dataset = torch.utils.data.DataLoader(test_set,batch_size=100, shuffle=False)"
   ]
  },
  {
   "cell_type": "code",
   "execution_count": 3,
   "metadata": {},
   "outputs": [],
   "source": [
    "# 实现含有2个hidden layer的多层感知机，结构：784 -> 512 -> 128 -> 10\n",
    "class MLP(nn.Module):\n",
    "    def __init__(self):\n",
    "        super(MLP,self).__init__()\n",
    "        self.fc1 =nn.Linear(784,512)\n",
    "        self.fc2 =nn.Linear(512,128)\n",
    "        self.fc3 =nn.Linear(128,10)\n",
    "\n",
    "    def forward(self, x):\n",
    "        x = x.view(-1,28*28)\n",
    "        # hidden layer使用 ReLU激活函数\n",
    "        dout =nn.functional.relu(self.fc1(x))\n",
    "        dout =nn.functional.relu(self.fc2(dout))\n",
    "        # 输出层使用softmax激活函数\n",
    "        return self.fc3(dout)"
   ]
  },
  {
   "cell_type": "code",
   "execution_count": 4,
   "metadata": {},
   "outputs": [],
   "source": [
    "# 计算准确率\n",
    "def AccuarcyCompute(pred, label):\n",
    "    pred = pred.cpu().data.numpy()\n",
    "    label = label.cpu().data.numpy()\n",
    "    test_np = (np.argmax(pred,1) == label)\n",
    "    test_np = np.float32(test_np)\n",
    "    return np.mean(test_np)"
   ]
  },
  {
   "cell_type": "code",
   "execution_count": 5,
   "metadata": {},
   "outputs": [
    {
     "name": "stdout",
     "output_type": "stream",
     "text": [
      "MLP(\n",
      "  (fc1): Linear(in_features=784, out_features=512, bias=True)\n",
      "  (fc2): Linear(in_features=512, out_features=128, bias=True)\n",
      "  (fc3): Linear(in_features=128, out_features=10, bias=True)\n",
      ")\n"
     ]
    }
   ],
   "source": [
    "# 实例化模型并打印模型结构\n",
    "torch.manual_seed(1)\n",
    "model = MLP().cuda()\n",
    "print(model)"
   ]
  },
  {
   "cell_type": "code",
   "execution_count": 6,
   "metadata": {},
   "outputs": [],
   "source": [
    "# 采用带 momentum 的 SGD方法，并定义学习率的下降规则\n",
    "optimizer = optim.Adam(model.parameters(), lr=0.01)\n",
    "\n",
    "# 定义学习率下降策略\n",
    "# scheduler = optim.lr_scheduler.MultiStepLR(optimizer, [5, 6], gamma=1, last_epoch=-1)\n",
    "\n",
    "# 使用交叉熵损失函数\n",
    "lossfunc = nn.CrossEntropyLoss().cuda()"
   ]
  },
  {
   "cell_type": "code",
   "execution_count": 7,
   "metadata": {
    "scrolled": false
   },
   "outputs": [
    {
     "name": "stdout",
     "output_type": "stream",
     "text": [
      "epoch 0\n",
      "0 : 0.1171875\n",
      "100 : 0.9453125\n",
      "200 : 0.9453125\n",
      "300 : 0.9296875\n",
      "400 : 0.953125\n",
      "epoch 1\n",
      "0 : 0.9296875\n",
      "100 : 0.9765625\n",
      "200 : 0.984375\n",
      "300 : 0.9765625\n",
      "400 : 0.9375\n",
      "epoch 2\n",
      "0 : 0.9765625\n",
      "100 : 0.9609375\n",
      "200 : 0.953125\n",
      "300 : 0.96875\n",
      "400 : 0.984375\n",
      "epoch 3\n",
      "0 : 0.9921875\n",
      "100 : 0.96875\n",
      "200 : 0.9609375\n",
      "300 : 0.9609375\n",
      "400 : 0.9609375\n",
      "epoch 4\n",
      "0 : 0.96875\n",
      "100 : 0.9921875\n",
      "200 : 0.9921875\n",
      "300 : 0.984375\n",
      "400 : 0.9609375\n",
      "epoch 5\n",
      "0 : 0.984375\n",
      "100 : 0.96875\n",
      "200 : 1.0\n",
      "300 : 0.984375\n",
      "400 : 0.9765625\n",
      "epoch 6\n",
      "0 : 0.9921875\n",
      "100 : 0.9921875\n",
      "200 : 0.9765625\n",
      "300 : 0.9765625\n",
      "400 : 0.9765625\n",
      "epoch 7\n",
      "0 : 0.9609375\n",
      "100 : 0.9765625\n",
      "200 : 0.984375\n",
      "300 : 0.984375\n",
      "400 : 0.984375\n"
     ]
    },
    {
     "data": {
      "image/png": "[encoded data removed]",
      "text/plain": [
       "<Figure size 432x288 with 1 Axes>"
      ]
     },
     "metadata": {},
     "output_type": "display_data"
    }
   ],
   "source": [
    "accuarcys = []\n",
    "losses = []\n",
    "# 在train_dataset上训练模型，一共11个epoch\n",
    "for x in range(8):\n",
    "    print('epoch ' + str(x))\n",
    "    # 在每个mini-batch上迭代\n",
    "    for i, data in enumerate(train_dataset):\n",
    "        \n",
    "        # 初始化梯度\n",
    "        optimizer.zero_grad()\n",
    "\n",
    "        (inputs,labels) = data\n",
    "        inputs = autograd.Variable(inputs).cuda()\n",
    "        labels = autograd.Variable(labels).cuda()\n",
    "\n",
    "        # 前向传播\n",
    "        outputs = model(inputs)\n",
    "\n",
    "        # 计算损失\n",
    "        loss = lossfunc(outputs,labels)\n",
    "        \n",
    "        # 反向传播\n",
    "        loss.backward()\n",
    "\n",
    "        # 更新网络参数\n",
    "        optimizer.step()\n",
    "        \n",
    "        losses.append(loss)\n",
    "        \n",
    "        accuarcys.append(AccuarcyCompute(outputs,labels))\n",
    "        \n",
    "        # 每一百次iteration打印在训练集上的准确率\n",
    "        if i % 100 == 0:\n",
    "            print(i,\":\",accuarcys[-1])\n",
    "            \n",
    "    # 打印当前 epoch 的学习率\n",
    "#     print('learning rate is : %g' % scheduler.get_lr()[0])\n",
    "    # 学习率变为上一个epoch 的 0.01\n",
    "#     scheduler.step()\n",
    "    \n",
    "# 绘制 loss 变化曲线和准确率变化曲线\n",
    "plt.plot(losses)\n",
    "plt.plot(accuarcys)\n",
    "plt.show()"
   ]
  },
  {
   "cell_type": "code",
   "execution_count": 8,
   "metadata": {},
   "outputs": [
    {
     "name": "stdout",
     "output_type": "stream",
     "text": [
      "0.9710000050067902\n"
     ]
    }
   ],
   "source": [
    "# 计算模型在测试集上的正确率\n",
    "accuarcy_list = []\n",
    "for i, (inputs,labels) in enumerate(test_dataset):\n",
    "    inputs = autograd.Variable(inputs).cuda()\n",
    "    labels = autograd.Variable(labels).cuda()\n",
    "    outputs = model(inputs)\n",
    "    accuarcy_list.append(AccuarcyCompute(outputs,labels))\n",
    "print(sum(accuarcy_list) / len(accuarcy_list))"
   ]
  },
  {
   "cell_type": "code",
   "execution_count": 9,
   "metadata": {},
   "outputs": [],
   "source": [
    "# 保存模型参数\n",
    "torch.save(model.state_dict(), 'net_params')"
   ]
  },
  {
   "cell_type": "code",
   "execution_count": null,
   "metadata": {},
   "outputs": [],
   "source": []
  }
 ],
 "metadata": {
  "kernelspec": {
   "display_name": "Python_3",
   "language": "python",
   "name": "root"
  },
  "language_info": {
   "codemirror_mode": {
    "name": "ipython",
    "version": 3
   },
   "file_extension": ".py",
   "mimetype": "text/x-python",
   "name": "python",
   "nbconvert_exporter": "python",
   "pygments_lexer": "ipython3",
   "version": "3.6.4"
  },
  "toc": {
   "base_numbering": 1,
   "nav_menu": {},
   "number_sections": true,
   "sideBar": true,
   "skip_h1_title": false,
   "title_cell": "Table of Contents",
   "title_sidebar": "Contents",
   "toc_cell": false,
   "toc_position": {},
   "toc_section_display": true,
   "toc_window_display": false
  }
 },
 "nbformat": 4,
 "nbformat_minor": 2
}
