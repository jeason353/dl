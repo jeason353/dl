{
 "cells": [
  {
   "cell_type": "markdown",
   "metadata": {},
   "source": [
    "### Tricks to improve accuracy\n",
    "0. random seed\n",
    "1. First run to compute the train dataset's mean and std, apply it to dataset pre-processing\n",
    "2. Add BN layer\n",
    "3. Initialize FC's weights to normal(0.01, 0.1), bias to 0, BN's weight to 1, bias to 0\n",
    "4. Adam\n",
    "5. Set lr decay scheduler to STEP and add epochs\n",
    "\n",
    "PS: MacOS, python3.6, torch 1.0"
   ]
  },
  {
   "cell_type": "code",
   "execution_count": 1,
   "metadata": {},
   "outputs": [],
   "source": [
    "import torch\n",
    "import numpy as np\n",
    "import matplotlib.pyplot as plt\n",
    "from torchvision import datasets, transforms\n",
    "import torch.nn as nn"
   ]
  },
  {
   "cell_type": "code",
   "execution_count": 21,
   "metadata": {},
   "outputs": [],
   "source": [
    "# hyperparameters\n",
    "batch_size = 64\n",
    "lr = 3e-2\n",
    "print_freq = 200\n",
    "epochs = 5"
   ]
  },
  {
   "cell_type": "code",
   "execution_count": 22,
   "metadata": {},
   "outputs": [],
   "source": [
    "# build train dataset and test dataset\n",
    "train_dataset = datasets.MNIST(root='./data/',\n",
    "                               train=True,\n",
    "                               transform=transforms.Compose([transforms.ToTensor(), transforms.Normalize(mean=[0.13066], std=[0.09493])]),\n",
    "                               download=True)\n",
    "test_dataset = datasets.MNIST(root='./data/',\n",
    "                              train=False,\n",
    "                              transform=transforms.Compose([transforms.ToTensor(), transforms.Normalize(mean=[0.13066], std=[0.09493])]))\n",
    "\n",
    "train_loader = torch.utils.data.DataLoader(dataset=train_dataset,\n",
    "                                           batch_size=batch_size,\n",
    "                                           shuffle=True)\n",
    "\n",
    "test_loader = torch.utils.data.DataLoader(dataset=test_dataset,\n",
    "                                          batch_size=batch_size,\n",
    "                                          shuffle=False)"
   ]
  },
  {
   "cell_type": "code",
   "execution_count": 16,
   "metadata": {},
   "outputs": [],
   "source": [
    "# build model\n",
    "# (fc -> bn -> relu) -> (fc -> bn -> relu) -> fc\n",
    "class mlp(nn.Module):\n",
    "    def __init__(self, init=False):\n",
    "        super(mlp, self).__init__()\n",
    "        self.fc1 = nn.Linear(784, 512)\n",
    "        self.bn1 = nn.BatchNorm1d(512)\n",
    "        self.fc2 = nn.Linear(512, 128)\n",
    "        self.bn2 = nn.BatchNorm1d(128)\n",
    "        self.fc3 = nn.Linear(128, 10)\n",
    "        self.relu = nn.ReLU()\n",
    "#         self.relu = nn.LeakyReLU()\n",
    "#         self.relu = nn.Sigmoid()\n",
    "        self.models = [self.fc1, self.bn1, self.fc2, self.bn2, self.fc3]\n",
    "        \n",
    "        if not init:\n",
    "            self._init()\n",
    "            \n",
    "    def _init(self):\n",
    "        for m in self.models:\n",
    "            if isinstance(m, nn.Linear):\n",
    "                m.weight.data.normal_(0.01, 0.1)\n",
    "#                 nn.init.kaiming_normal_(m.weight, nonlinearity='leaky_relu')\n",
    "                m.bias.data.zero_()\n",
    "            elif isinstance(m, nn.BatchNorm1d):\n",
    "                m.weight.data.fill_(1)\n",
    "                m.bias.data.zero_()\n",
    "    def forward(self, x):\n",
    "        x = self.fc1(x)\n",
    "        x = self.bn1(x)\n",
    "        x = self.relu(x)\n",
    "        x = self.fc2(x)\n",
    "        x = self.bn2(x)\n",
    "        x = self.relu(x)\n",
    "        x = self.fc3(x)\n",
    "        \n",
    "        return x"
   ]
  },
  {
   "cell_type": "code",
   "execution_count": 17,
   "metadata": {},
   "outputs": [],
   "source": [
    "# random seed\n",
    "torch.manual_seed(0)\n",
    "np.random.seed(0)\n",
    "\n",
    "# build model, adam optimizer, lr scheduler and loss function\n",
    "model = mlp()\n",
    "optimizer = torch.optim.Adam(model.parameters(), lr)\n",
    "scheduler = torch.optim.lr_scheduler.StepLR(optimizer, step_size=1, gamma=0.2)\n",
    "criteria = nn.CrossEntropyLoss()"
   ]
  },
  {
   "cell_type": "markdown",
   "metadata": {},
   "source": [
    "### 1. train phase"
   ]
  },
  {
   "cell_type": "code",
   "execution_count": 18,
   "metadata": {},
   "outputs": [
    {
     "name": "stdout",
     "output_type": "stream",
     "text": [
      "iter 0: loss 2.608524\n",
      "iter 200: loss 0.335888\n",
      "iter 400: loss 0.074990\n",
      "iter 600: loss 0.296608\n",
      "iter 800: loss 0.111003\n",
      "iter 1000: loss 0.038041\n",
      "iter 1200: loss 0.004573\n",
      "iter 1400: loss 0.064720\n",
      "iter 1600: loss 0.081320\n",
      "iter 1800: loss 0.004659\n",
      "iter 2000: loss 0.022592\n",
      "iter 2200: loss 0.030645\n",
      "iter 2400: loss 0.117268\n",
      "iter 2600: loss 0.071426\n",
      "iter 2800: loss 0.015026\n",
      "iter 3000: loss 0.012379\n",
      "iter 3200: loss 0.010663\n",
      "iter 3400: loss 0.017270\n",
      "iter 3600: loss 0.206690\n",
      "iter 3800: loss 0.028931\n",
      "iter 4000: loss 0.029855\n",
      "iter 4200: loss 0.009837\n",
      "iter 4400: loss 0.033873\n",
      "iter 4600: loss 0.009252\n",
      "iter 4800: loss 0.002814\n"
     ]
    },
    {
     "data": {
      "image/png": "[encoded data removed]",
      "text/plain": [
       "<Figure size 432x288 with 1 Axes>"
      ]
     },
     "metadata": {
      "needs_background": "light"
     },
     "output_type": "display_data"
    }
   ],
   "source": [
    "model.train()\n",
    "losses = []\n",
    "# samples = 0\n",
    "# mean = 0\n",
    "# first run to compute the train dataset's mean and var\n",
    "samples = 60000\n",
    "mean = 0.13066\n",
    "var = 0.09493\n",
    "for epoch in range(epochs):\n",
    "    # lr decay every epoch\n",
    "    scheduler.step()\n",
    "\n",
    "    for i, (data, target) in enumerate(train_loader):\n",
    "        output = model(data.reshape(data.shape[0], -1))\n",
    "    \n",
    "        loss = criteria(output, target)\n",
    "        if i % print_freq == 0:\n",
    "            print(\"iter {}: loss {:.6f}\".format(i+epoch*1000, loss.data))\n",
    "        # BP\n",
    "        losses.append(float(loss.data))\n",
    "        optimizer.zero_grad()\n",
    "        loss.backward()\n",
    "        optimizer.step()\n",
    "    \n",
    "#     samples += data.shape[0]\n",
    "#     mean += float(data.sum())\n",
    "#     var += float(((data - mean) ** 2).sum())\n",
    "# mean /= (samples * 28 * 28)\n",
    "# var /= (samples * 28 * 28)\n",
    "plt.plot(np.arange(len(losses)), losses)\n",
    "plt.show()"
   ]
  },
  {
   "cell_type": "markdown",
   "metadata": {},
   "source": [
    "### 2.Test phase"
   ]
  },
  {
   "cell_type": "code",
   "execution_count": 20,
   "metadata": {},
   "outputs": [
    {
     "name": "stdout",
     "output_type": "stream",
     "text": [
      "0.9841\n"
     ]
    }
   ],
   "source": [
    "# set model to eval mode and test\n",
    "model.eval()\n",
    "samples = 0\n",
    "acc = 0\n",
    "for i, (data, target) in enumerate(test_loader):\n",
    "    output = model(data.reshape(data.shape[0], -1))\n",
    "    _, pred = torch.max(output, dim=1)\n",
    "    acc += float((pred == target).sum())\n",
    "    samples += output.shape[0]\n",
    "\n",
    "print(acc / samples)"
   ]
  }
 ],
 "metadata": {
  "kernelspec": {
   "display_name": "Python 3",
   "language": "python",
   "name": "python3"
  },
  "language_info": {
   "codemirror_mode": {
    "name": "ipython",
    "version": 3
   },
   "file_extension": ".py",
   "mimetype": "text/x-python",
   "name": "python",
   "nbconvert_exporter": "python",
   "pygments_lexer": "ipython3",
   "version": "3.6.2"
  },
  "toc": {
   "base_numbering": 1,
   "nav_menu": {},
   "number_sections": true,
   "sideBar": true,
   "skip_h1_title": false,
   "title_cell": "Table of Contents",
   "title_sidebar": "Contents",
   "toc_cell": false,
   "toc_position": {},
   "toc_section_display": true,
   "toc_window_display": false
  }
 },
 "nbformat": 4,
 "nbformat_minor": 2
}
